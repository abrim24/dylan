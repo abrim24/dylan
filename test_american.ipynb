{
 "cells": [
  {
   "cell_type": "code",
   "execution_count": 5,
   "metadata": {
    "collapsed": false
   },
   "outputs": [
    {
     "name": "stdout",
     "output_type": "stream",
     "text": [
      "The european call option price is 7.074\n",
      "The american call option price is 7.074\n"
     ]
    }
   ],
   "source": [
    "#Andy - my comments below explaining what's happening here.\n",
    "\n",
    "\n",
    "from dylan.payoff import VanillaPayoff, call_payoff, put_payoff\n",
    "from dylan.engine import BinomialPricingEngine, EuropeanBinomialPricer\n",
    "from dylan.marketdata import MarketData\n",
    "from dylan.option import Option\n",
    "import numpy as np\n",
    "\n",
    "\n",
    "def AmericanBinomialPricer(pricingengine, option, data):\n",
    "    expiry = option.expiry\n",
    "    strike = option.strike\n",
    "    (spot, rate, volatility, dividend) = data.get_data()\n",
    "    steps = pricingengine.steps\n",
    "    nodes = steps + 1\n",
    "    dt = expiry / steps \n",
    "    u = np.exp((rate * dt) + volatility * np.sqrt(dt)) \n",
    "    d = np.exp((rate * dt) - volatility * np.sqrt(dt))\n",
    "    pu = (np.exp(rate * dt) - d) / (u - d)\n",
    "    pd = 1 - pu\n",
    "    disc = np.exp(-rate * dt)\n",
    "    dpu = disc * pu\n",
    "    dpd = disc * pd\n",
    "\n",
    "    Ct = np.zeros(nodes)\n",
    "    St = np.zeros(nodes)\n",
    "\n",
    "    #This is where all the magic happens\n",
    "    #Here we are building the tree like normal\n",
    "    for i in range(nodes):\n",
    "        St[i] = spot * (u ** (steps - i)) * (d ** i)\n",
    "        Ct[i] = option.payoff(St[i])\n",
    "\n",
    "    ########################################################\n",
    "    # Now we need to traverse back through the tree looking for the highest payoff\n",
    "    # We can't just price end-nodes here, we need to find the highest payoff\n",
    "    # Wherever we find the highest payoff in each step, we store it, and then move to the next step\n",
    "    # If the old payoff is higher than the new, we move it up in the array.  If the newer node payoff is higher\n",
    "    # we store that new value.\n",
    "    # As we move towards the beginning of the tree, the highest payoff value will keep moving forward in the array.\n",
    "    # In the end, the highest value is stored in the first value of the array, and will be returned.\n",
    "    # For example, if the highest payoff in a given tree happens to be in a terminal node, then when this looop is done\n",
    "    # the entire array will have the same value, because as we walk back in the tree towards the beginning, that\n",
    "    # value will keep overwriting the lower values, until it is sitting in the first value in the array, and returned.\n",
    "    # pretty slick.\n",
    "    for i in range((steps - 1), -1, -1):\n",
    "        for j in range(i+1):\n",
    "            Ct[j] = dpu * Ct[j] + dpd * Ct[j+1]\n",
    "            St[j] = St[j] / u\n",
    "            Ct[j] = np.maximum(Ct[j], option.payoff(St[j]))\n",
    "\n",
    "    # As we moved back through the tree, we kept storing the highest payoff, until it was stored in the first value\n",
    "    # in the array, Ct[0]\n",
    "    return Ct[0]\n",
    "\n",
    "def main():\n",
    "    spot = 41.0\n",
    "    strike = 40.0\n",
    "    rate = 0.08\n",
    "    volatility = 0.30\n",
    "    expiry = 1.0\n",
    "    steps = 3\n",
    "    dividend = 0.0\n",
    "\n",
    "    the_call = VanillaPayoff(expiry, strike, call_payoff)\n",
    "    the_bopm = BinomialPricingEngine(steps, EuropeanBinomialPricer)\n",
    "    the_data = MarketData(rate, spot, volatility, dividend)\n",
    "\n",
    "    am_pricer = BinomialPricingEngine(steps, AmericanBinomialPricer)\n",
    "    \n",
    "    the_option = Option(the_call, the_bopm, the_data)\n",
    "    am_option = Option(the_call, am_pricer, the_data)\n",
    "    fmt = \"The european call option price is {0:0.3f}\"\n",
    "    print(fmt.format(the_option.price()))\n",
    "    fmt2 = \"The american call option price is {0:0.3f}\"\n",
    "    print(fmt2.format(am_option.price()))\n",
    "\n",
    "\n",
    "    \n",
    "if __name__ == \"__main__\":\n",
    "    main()\n"
   ]
  },
  {
   "cell_type": "code",
   "execution_count": null,
   "metadata": {
    "collapsed": true
   },
   "outputs": [],
   "source": []
  }
 ],
 "metadata": {
  "kernelspec": {
   "display_name": "Python [Root]",
   "language": "python",
   "name": "Python [Root]"
  },
  "language_info": {
   "codemirror_mode": {
    "name": "ipython",
    "version": 3
   },
   "file_extension": ".py",
   "mimetype": "text/x-python",
   "name": "python",
   "nbconvert_exporter": "python",
   "pygments_lexer": "ipython3",
   "version": "3.5.2"
  }
 },
 "nbformat": 4,
 "nbformat_minor": 0
}
